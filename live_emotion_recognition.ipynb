{
 "cells": [
  {
   "cell_type": "markdown",
   "metadata": {},
   "source": [
    "### Required Libraries"
   ]
  },
  {
   "cell_type": "code",
   "execution_count": 1,
   "metadata": {},
   "outputs": [
    {
     "name": "stderr",
     "output_type": "stream",
     "text": [
      "Using TensorFlow backend.\n"
     ]
    }
   ],
   "source": [
    "import numpy as np\n",
    "import pandas as pd\n",
    "from matplotlib import pyplot as plt\n",
    "\n",
    "import h5py\n",
    "\n",
    "from sklearn.preprocessing import scale\n",
    "\n",
    "from keras.models import Sequential\n",
    "from keras.layers import Dense, Activation, Conv2D, Reshape, Flatten, MaxPooling2D, Dropout\n",
    "from keras.utils import np_utils"
   ]
  },
  {
   "cell_type": "markdown",
   "metadata": {},
   "source": [
    "### Read and filter data"
   ]
  },
  {
   "cell_type": "code",
   "execution_count": 2,
   "metadata": {},
   "outputs": [],
   "source": [
    "df = pd.read_csv('fer2013.csv')\n",
    "\n",
    "labels = df[df.columns[0]]\n",
    "#changing output labels to categorical format\n",
    "labels = np_utils.to_categorical(labels)\n",
    "image_pixels_string = df[df.columns[1]]\n",
    "image = np.zeros((df.shape[0], 48*48))\n",
    "\n",
    "#forming image matrix of size 1, 48*48\n",
    "for ix in range(image.shape[0]):\n",
    "    temp = image_pixels_string[ix].split(' ')\n",
    "    for iy in range(image.shape[1]):\n",
    "        image[ix, iy] = int(temp[iy])\n",
    "\n",
    "#usig sklearn to normalize each feature\n",
    "image = scale(image, axis=0)\n",
    "\n",
    "#forming training dataset and reshaping it to format accepted by input layer\n",
    "X_train_num = (df[df['Usage']=='Training']).count()[0]\n",
    "X_train = image[:X_train_num, :].reshape((X_train_num, 48, 48, 1))\n",
    "y_train = labels[:X_train_num, :]\n",
    "\n",
    "#forming tcross validation dataset and reshaping it to format accepted by input layer\n",
    "X_cv_num = (df[df['Usage']=='PublicTest']).count()[0]\n",
    "X_cv = image[:X_cv_num, :].reshape((X_cv_num, 48, 48, 1))\n",
    "y_cv = labels[:X_cv_num, :]\n",
    "\n",
    "#forming ttesting dataset and reshaping it to format accepted by input layer\n",
    "X_test_num = (df[df['Usage']=='PrivateTest']).count()[0]\n",
    "X_test = image[:X_test_num, :].reshape((X_test_num, 48, 48, 1))\n",
    "y_test = labels[:X_test_num, :]"
   ]
  },
  {
   "cell_type": "markdown",
   "metadata": {},
   "source": [
    "### Model Creation"
   ]
  },
  {
   "cell_type": "code",
   "execution_count": 3,
   "metadata": {},
   "outputs": [
    {
     "name": "stdout",
     "output_type": "stream",
     "text": [
      "_________________________________________________________________\n",
      "Layer (type)                 Output Shape              Param #   \n",
      "=================================================================\n",
      "conv2d_1 (Conv2D)            (None, 46, 46, 64)        640       \n",
      "_________________________________________________________________\n",
      "conv2d_2 (Conv2D)            (None, 44, 44, 64)        36928     \n",
      "_________________________________________________________________\n",
      "conv2d_3 (Conv2D)            (None, 42, 42, 64)        36928     \n",
      "_________________________________________________________________\n",
      "max_pooling2d_1 (MaxPooling2 (None, 21, 21, 64)        0         \n",
      "_________________________________________________________________\n",
      "conv2d_4 (Conv2D)            (None, 19, 19, 32)        18464     \n",
      "_________________________________________________________________\n",
      "conv2d_5 (Conv2D)            (None, 17, 17, 32)        9248      \n",
      "_________________________________________________________________\n",
      "conv2d_6 (Conv2D)            (None, 15, 15, 32)        9248      \n",
      "_________________________________________________________________\n",
      "max_pooling2d_2 (MaxPooling2 (None, 7, 7, 32)          0         \n",
      "_________________________________________________________________\n",
      "flatten_1 (Flatten)          (None, 1568)              0         \n",
      "_________________________________________________________________\n",
      "dense_1 (Dense)              (None, 256)               401664    \n",
      "_________________________________________________________________\n",
      "dropout_1 (Dropout)          (None, 256)               0         \n",
      "_________________________________________________________________\n",
      "dense_2 (Dense)              (None, 128)               32896     \n",
      "_________________________________________________________________\n",
      "dropout_2 (Dropout)          (None, 128)               0         \n",
      "_________________________________________________________________\n",
      "dense_3 (Dense)              (None, 64)                8256      \n",
      "_________________________________________________________________\n",
      "dense_4 (Dense)              (None, 7)                 455       \n",
      "=================================================================\n",
      "Total params: 554,727\n",
      "Trainable params: 554,727\n",
      "Non-trainable params: 0\n",
      "_________________________________________________________________\n"
     ]
    }
   ],
   "source": [
    "model = Sequential()\n",
    "\n",
    "model.add(Conv2D(64, (3, 3), input_shape=(48, 48, 1), activation='relu'))\n",
    "model.add(Conv2D(64, (3, 3), activation='relu'))\n",
    "model.add(Conv2D(64, (3, 3), activation='relu'))\n",
    "model.add(MaxPooling2D(pool_size=(2, 2)))\n",
    "\n",
    "model.add(Conv2D(32, (3, 3), activation='relu'))\n",
    "model.add(Conv2D(32, (3, 3), activation='relu'))\n",
    "model.add(Conv2D(32, (3, 3), activation='relu'))\n",
    "model.add(MaxPooling2D(pool_size=(2, 2)))\n",
    "\n",
    "model.add(Flatten())\n",
    "model.add(Dense(256, activation='relu'))\n",
    "model.add(Dropout(0.2))\n",
    "model.add(Dense(256, activation='relu'))\n",
    "model.add(Dropout(0.2))\n",
    "model.add(Dense(128, activation='relu'))\n",
    "model.add(Dropout(0.2))\n",
    "model.add(Dense(64, activation='relu'))\n",
    "model.add(Dense(7, activation='softmax'))\n",
    "\n",
    "model.summary()\n",
    "#keras.optimizers.Adam(lr=0.0001, beta_1=0.9, beta_2=0.999, epsilon=1e-08, decay=0.0)\n",
    "model.compile(loss='categorical_crossentropy', optimizer='adam',\n",
    "                  metrics=['accuracy'])"
   ]
  },
  {
   "cell_type": "markdown",
   "metadata": {},
   "source": [
    "### Model fit and evaluation"
   ]
  },
  {
   "cell_type": "code",
   "execution_count": 4,
   "metadata": {},
   "outputs": [
    {
     "name": "stdout",
     "output_type": "stream",
     "text": [
      "Train on 28709 samples, validate on 3589 samples\n",
      "Epoch 1/5\n",
      "28709/28709 [==============================] - 500s 17ms/step - loss: 1.7442 - acc: 0.2891 - val_loss: 1.5752 - val_acc: 0.3828\n",
      "Epoch 2/5\n",
      "28709/28709 [==============================] - 519s 18ms/step - loss: 1.5166 - acc: 0.4090 - val_loss: 1.3753 - val_acc: 0.4712\n",
      "Epoch 3/5\n",
      "28709/28709 [==============================] - 534s 19ms/step - loss: 1.3733 - acc: 0.4725 - val_loss: 1.2534 - val_acc: 0.5208\n",
      "Epoch 4/5\n",
      "28709/28709 [==============================] - 507s 18ms/step - loss: 1.2879 - acc: 0.5088 - val_loss: 1.2001 - val_acc: 0.5394\n",
      "Epoch 5/5\n",
      "28709/28709 [==============================] - 505s 18ms/step - loss: 1.2179 - acc: 0.5330 - val_loss: 1.1189 - val_acc: 0.5759\n"
     ]
    }
   ],
   "source": [
    "hist = model.fit(X_train, y_train,\n",
    "                     epochs=5,\n",
    "                     shuffle=True,\n",
    "                      batch_size=256,\n",
    "                     validation_data=(X_cv, y_cv))\n",
    "\n",
    "print('***********************************************************************')\n",
    "score = model.evaluate(X_test, y_test, verbose=0)\n",
    "print('Testing loss : {}'.format(score[0]))\n",
    "print('Testing accuracy : {}'.format(score[1]))\n",
    "print('***********************************************************************')"
   ]
  },
  {
   "cell_type": "code",
   "execution_count": 14,
   "metadata": {},
   "outputs": [
    {
     "name": "stdout",
     "output_type": "stream",
     "text": [
      "**************************************\n",
      "Testing loss : 1.118852109555648    *\n",
      "Testing accuracy : 0.5759264419141271\n",
      "**************************************\n"
     ]
    }
   ],
   "source": [
    "print('**************************************')\n",
    "#score = model.evaluate(X_test, y_test, verbose=0)\n",
    "print('Testing loss : {}    *'.format(score[0]))\n",
    "print('Testing accuracy : {}'.format(score[1]))\n",
    "print('**************************************')"
   ]
  },
  {
   "cell_type": "markdown",
   "metadata": {},
   "source": [
    "### Saving model for prediction"
   ]
  },
  {
   "cell_type": "code",
   "execution_count": 5,
   "metadata": {},
   "outputs": [],
   "source": [
    "model.save('live_emotion_recognition_model.h5')  # creates a HDF5 file 'my_model.h5'\n",
    "fhandle = h5py.File('live_emotion_recognition_model.h5', 'r+')\n",
    "del fhandle['optimizer_weights']\n",
    "fhandle.close()"
   ]
  }
 ],
 "metadata": {
  "kernelspec": {
   "display_name": "Python 3",
   "language": "python",
   "name": "python3"
  },
  "language_info": {
   "codemirror_mode": {
    "name": "ipython",
    "version": 3
   },
   "file_extension": ".py",
   "mimetype": "text/x-python",
   "name": "python",
   "nbconvert_exporter": "python",
   "pygments_lexer": "ipython3",
   "version": "3.6.7"
  }
 },
 "nbformat": 4,
 "nbformat_minor": 2
}
